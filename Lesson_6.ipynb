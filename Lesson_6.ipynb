{
  "cells": [
    {
      "cell_type": "code",
      "execution_count": null,
      "metadata": {
        "id": "hEEk8rKL4WIa"
      },
      "outputs": [],
      "source": [
        "import pandas as pd\n",
        "import numpy as np\n",
        "import matplotlib.pyplot as plt\n",
        "import plotly.express as px\n",
        "from scipy.stats import f_oneway\n",
        "%matplotlib inline"
      ]
    },
    {
      "cell_type": "code",
      "execution_count": null,
      "metadata": {
        "id": "xqeoxNj24WIc"
      },
      "outputs": [],
      "source": [
        "# Credits:\n",
        "# Horst AM, Hill AP, Gorman KB (2020). palmerpenguins: Palmer\n",
        "# Archipelago (Antarctica) penguin data. R package version 0.1.0.\n",
        "# https://allisonhorst.github.io/palmerpenguins/\n",
        "url = 'https://gist.githubusercontent.com/slopp/'+ \\\n",
        "      'ce3b90b9168f2f921784de84fa445651/raw/' + \\\n",
        "      '4ecf3041f0ed4913e7c230758733948bc561f434/penguins.csv'\n",
        "df = pd.read_csv(url)"
      ]
    },
    {
      "cell_type": "markdown",
      "metadata": {
        "id": "6gS5IYaX4WId"
      },
      "source": [
        "<img src='https://allisonhorst.github.io/palmerpenguins/reference/figures/lter_penguins.png' width=400/>"
      ]
    },
    {
      "cell_type": "markdown",
      "metadata": {
        "id": "8nyjrv_h4WIe"
      },
      "source": [
        "**Image 1.** Penguins drawing. Artwork by @allison_hors."
      ]
    },
    {
      "cell_type": "code",
      "execution_count": null,
      "metadata": {
        "id": "ACM_nrBA4WIf"
      },
      "outputs": [],
      "source": [
        "# check basic info\n"
      ]
    },
    {
      "cell_type": "code",
      "execution_count": null,
      "metadata": {
        "id": "sTYQ18Kt4WIf"
      },
      "outputs": [],
      "source": [
        "# Show 10 observations\n"
      ]
    },
    {
      "cell_type": "markdown",
      "metadata": {
        "id": "r_ex6Ui74WIf"
      },
      "source": [
        "<img src=\"https://allisonhorst.github.io/palmerpenguins/reference/figures/culmen_depth.png\" width=400/>"
      ]
    },
    {
      "cell_type": "markdown",
      "metadata": {
        "id": "q1kTHsnq4WIg"
      },
      "source": [
        "**Image 2.** Penguins dimensions. Artwork by @allison_hors."
      ]
    },
    {
      "cell_type": "code",
      "execution_count": null,
      "metadata": {
        "id": "D7M0W1jY4WIg"
      },
      "outputs": [],
      "source": [
        "# Drop na values, but explain your rule of decision\n"
      ]
    },
    {
      "cell_type": "code",
      "execution_count": null,
      "metadata": {
        "id": "HlW0aczR4WIg"
      },
      "outputs": [],
      "source": [
        "# Get a basic summary of the data\n"
      ]
    },
    {
      "cell_type": "code",
      "execution_count": null,
      "metadata": {
        "id": "Wwq_5wCo4WIh"
      },
      "outputs": [],
      "source": [
        "# How many penguins by species and island we have?"
      ]
    },
    {
      "cell_type": "code",
      "execution_count": null,
      "metadata": {
        "id": "V8v-_KLm4WIh"
      },
      "outputs": [],
      "source": [
        "# Get the basic metrics (mean, median, std, max, min) per species\n"
      ]
    },
    {
      "cell_type": "code",
      "execution_count": null,
      "metadata": {
        "id": "CRTKQv5N4WIh"
      },
      "outputs": [],
      "source": [
        "# Show the histogram per bill lenght\n"
      ]
    },
    {
      "cell_type": "code",
      "execution_count": null,
      "metadata": {
        "id": "75xUr9pM4WIi"
      },
      "outputs": [],
      "source": [
        "# Show the histogram per bill depth"
      ]
    },
    {
      "cell_type": "code",
      "execution_count": null,
      "metadata": {
        "id": "XBRvO_pG4WIi"
      },
      "outputs": [],
      "source": [
        "# Show the histogram per flipper length\n"
      ]
    },
    {
      "cell_type": "code",
      "execution_count": null,
      "metadata": {
        "id": "kF7qQf7-4WIi"
      },
      "outputs": [],
      "source": [
        "# Show a boxplot of body mass per species"
      ]
    },
    {
      "cell_type": "code",
      "execution_count": null,
      "metadata": {
        "id": "L1RXspvb4WIj"
      },
      "outputs": [],
      "source": [
        "# Show a bivariate plot of bill length and bill depth"
      ]
    },
    {
      "cell_type": "code",
      "execution_count": null,
      "metadata": {
        "id": "yPh_KSFX4WIj"
      },
      "outputs": [],
      "source": [
        "# Is there a way to be more effective?\n"
      ]
    },
    {
      "cell_type": "code",
      "execution_count": null,
      "metadata": {
        "id": "fluW6DIG4WIj"
      },
      "outputs": [],
      "source": [
        "# What percentage of Gentoo penguins weights less than 5000 (visually)\n"
      ]
    },
    {
      "cell_type": "code",
      "execution_count": null,
      "metadata": {
        "id": "3EZXsEAY4WIk"
      },
      "outputs": [],
      "source": [
        "# Is there a difference between Adelie penguins from each island?\n",
        "# alpha = 0.05\n",
        "# reject_H0 = p_value < alpha"
      ]
    },
    {
      "cell_type": "code",
      "execution_count": null,
      "metadata": {
        "id": "lxenOefQ4WIk"
      },
      "outputs": [],
      "source": [
        "# Show the boxplot of Adelie penguins by island"
      ]
    }
  ],
  "metadata": {
    "interpreter": {
      "hash": "bc7f7a2d7b5a13e1df9879b693cf35a001b0abe7ad7fabfa2efe5a3b8907473a"
    },
    "kernelspec": {
      "display_name": "Python 3.7.10 ('Commons')",
      "language": "python",
      "name": "python3"
    },
    "language_info": {
      "codemirror_mode": {
        "name": "ipython",
        "version": 3
      },
      "file_extension": ".py",
      "mimetype": "text/x-python",
      "name": "python",
      "nbconvert_exporter": "python",
      "pygments_lexer": "ipython3",
      "version": "3.7.10"
    },
    "orig_nbformat": 4,
    "colab": {
      "provenance": []
    }
  },
  "nbformat": 4,
  "nbformat_minor": 0
}